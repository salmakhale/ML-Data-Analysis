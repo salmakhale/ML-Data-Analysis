{
  "cells": [
    {
      "cell_type": "markdown",
      "metadata": {
        "id": "NJkbkq_tWi4B"
      },
      "source": [
        "# NumPy Exercises\n",
        "\n",
        "Now that we've learned about NumPy let's test your knowledge. We'll start off with a few simple tasks, and then you'll be asked some more complicated questions."
      ]
    },
    {
      "cell_type": "markdown",
      "metadata": {
        "id": "PbKrqa-eWi4H"
      },
      "source": [
        "#### Import NumPy as np"
      ]
    },
    {
      "cell_type": "code",
      "execution_count": 1,
      "metadata": {
        "id": "JMNM0XltWi4I"
      },
      "outputs": [],
      "source": [
        "import numpy as np"
      ]
    },
    {
      "cell_type": "markdown",
      "metadata": {
        "id": "HooYbp87Wi4O"
      },
      "source": [
        "#### Create an array of the integers from 10 to 50"
      ]
    },
    {
      "cell_type": "code",
      "execution_count": 2,
      "metadata": {
        "id": "EOn5WVg1Wi4O",
        "outputId": "7b0cc15e-493f-47c3-b76d-44fb2788901d",
        "colab": {
          "base_uri": "https://localhost:8080/"
        }
      },
      "outputs": [
        {
          "output_type": "stream",
          "name": "stdout",
          "text": [
            "[10 11 12 13 14 15 16 17 18 19 20 21 22 23 24 25 26 27 28 29 30 31 32 33\n",
            " 34 35 36 37 38 39 40 41 42 43 44 45 46 47 48 49 50]\n"
          ]
        }
      ],
      "source": [
        "array= np.arange(10,51)\n",
        "print(array)"
      ]
    },
    {
      "cell_type": "markdown",
      "source": [
        "##find the memory size of any array"
      ],
      "metadata": {
        "id": "KmylThPfF7R7"
      }
    },
    {
      "cell_type": "code",
      "source": [
        "array.size"
      ],
      "metadata": {
        "id": "-XFRIKdqF5yR",
        "colab": {
          "base_uri": "https://localhost:8080/"
        },
        "outputId": "2c836efb-e56c-40ad-9005-946eab495270"
      },
      "execution_count": 3,
      "outputs": [
        {
          "output_type": "execute_result",
          "data": {
            "text/plain": [
              "41"
            ]
          },
          "metadata": {},
          "execution_count": 3
        }
      ]
    },
    {
      "cell_type": "markdown",
      "metadata": {
        "id": "-sQb6eoOWi4Q"
      },
      "source": [
        "#### Create a 3x3 matrix with values ranging from 0 to 8"
      ]
    },
    {
      "cell_type": "code",
      "execution_count": 4,
      "metadata": {
        "id": "Zg7A7ofiWi4Q",
        "outputId": "d1965220-da61-4933-ad02-761b358b5db8",
        "colab": {
          "base_uri": "https://localhost:8080/"
        }
      },
      "outputs": [
        {
          "output_type": "stream",
          "name": "stdout",
          "text": [
            "[[0 1 2]\n",
            " [3 4 5]\n",
            " [6 7 8]]\n"
          ]
        }
      ],
      "source": [
        "array = np.arange(0,9).reshape(3,3)\n",
        "print(array)"
      ]
    },
    {
      "cell_type": "markdown",
      "metadata": {
        "id": "S5FP0PBEWi4Q"
      },
      "source": [
        "#### Create a 3x3 identity matrix"
      ]
    },
    {
      "cell_type": "code",
      "execution_count": 5,
      "metadata": {
        "id": "s3UrsLyRWi4R",
        "outputId": "5d8d1d32-84b1-4a1b-fe34-810083cfe617",
        "colab": {
          "base_uri": "https://localhost:8080/"
        }
      },
      "outputs": [
        {
          "output_type": "stream",
          "name": "stdout",
          "text": [
            "[[1. 0. 0.]\n",
            " [0. 1. 0.]\n",
            " [0. 0. 1.]]\n"
          ]
        }
      ],
      "source": [
        "array = np.identity(3)\n",
        "print(array)"
      ]
    },
    {
      "cell_type": "markdown",
      "metadata": {
        "id": "9xApmCM1Wi4Z"
      },
      "source": [
        "### Now do the following"
      ]
    },
    {
      "cell_type": "markdown",
      "source": [
        "Create list from 20 to 40"
      ],
      "metadata": {
        "id": "9Xs-zud-KF6k"
      }
    },
    {
      "cell_type": "markdown",
      "metadata": {
        "id": "BFXIkt3zWi4Z"
      },
      "source": [
        "#### Get the mean of all the values in mat"
      ]
    },
    {
      "cell_type": "code",
      "execution_count": 6,
      "metadata": {
        "id": "qVevjWlDWi4a",
        "colab": {
          "base_uri": "https://localhost:8080/"
        },
        "outputId": "9cf613f8-5b56-4b58-8bd7-7392ffe77db8"
      },
      "outputs": [
        {
          "output_type": "stream",
          "name": "stdout",
          "text": [
            "[20 21 22 23 24 25 26 27 28 29 30 31 32 33 34 35 36 37 38 39 40]\n",
            "30.0\n"
          ]
        }
      ],
      "source": [
        "l=np.arange(20,41)\n",
        "print(l)\n",
        "print(l.mean())"
      ]
    },
    {
      "cell_type": "markdown",
      "metadata": {
        "id": "Lfs7feaVWi4a"
      },
      "source": [
        "#### Get the median of all the columns in mat"
      ]
    },
    {
      "cell_type": "code",
      "execution_count": 8,
      "metadata": {
        "id": "i6udmRtvWi4b",
        "colab": {
          "base_uri": "https://localhost:8080/"
        },
        "outputId": "b2061fa7-31d7-4dc7-ccb1-04be9bff0cf1"
      },
      "outputs": [
        {
          "output_type": "stream",
          "name": "stdout",
          "text": [
            "30.0\n"
          ]
        }
      ],
      "source": [
        "print(np.median(l))"
      ]
    },
    {
      "cell_type": "markdown",
      "metadata": {
        "collapsed": true,
        "id": "Ekzv5CvGWi4b"
      },
      "source": [
        "# Great Job!"
      ]
    }
  ],
  "metadata": {
    "kernelspec": {
      "display_name": "Python 3",
      "language": "python",
      "name": "python3"
    },
    "language_info": {
      "codemirror_mode": {
        "name": "ipython",
        "version": 3
      },
      "file_extension": ".py",
      "mimetype": "text/x-python",
      "name": "python",
      "nbconvert_exporter": "python",
      "pygments_lexer": "ipython3",
      "version": "3.8.5"
    },
    "colab": {
      "provenance": [],
      "collapsed_sections": [
        "BFXIkt3zWi4Z",
        "Lfs7feaVWi4a",
        "h6hFyokmK0s0"
      ]
    }
  },
  "nbformat": 4,
  "nbformat_minor": 0
}